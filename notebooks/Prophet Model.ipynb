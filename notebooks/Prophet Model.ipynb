{
 "cells": [
  {
   "cell_type": "markdown",
   "metadata": {},
   "source": [
    "# Import Libraries"
   ]
  },
  {
   "cell_type": "code",
   "execution_count": 1,
   "metadata": {
    "ExecuteTime": {
     "end_time": "2019-12-18T16:10:10.763223Z",
     "start_time": "2019-12-18T16:10:00.954418Z"
    }
   },
   "outputs": [],
   "source": [
    "%matplotlib inline\n",
    "\n",
    "import pandas as pd\n",
    "import numpy as np\n",
    "\n",
    "import datetime \n",
    "import matplotlib.pyplot as plt\n",
    "import seaborn as sns\n",
    "\n",
    "from matplotlib.backends.backend_pdf import PdfPages\n",
    "import glob\n",
    "import os\n",
    "\n",
    "import sys\n",
    "import itertools\n",
    "from matplotlib import rcParams\n",
    "\n",
    "\n",
    "\n",
    "import fbprophet\n",
    "from fbprophet import Prophet\n",
    "import statsmodels.api as sm\n",
    "\n",
    "from sklearn.metrics import mean_absolute_error as MAE\n",
    "from scipy.stats import skew\n",
    "\n",
    "import folium\n",
    "from folium.plugins import MarkerCluster\n",
    "\n",
    "\n",
    "import warnings\n",
    "warnings.simplefilter(\"ignore\", DeprecationWarning)\n",
    "warnings.simplefilter(\"ignore\", FutureWarning, )\n",
    "\n",
    "import logging\n",
    "logging.getLogger('fbprophet').setLevel(logging.ERROR)\n",
    "\n",
    "import wellapplication as wa\n",
    "\n",
    "rcParams['figure.figsize'] = 15, 10\n",
    "rcParams['pdf.fonttype'] = 42\n",
    "rcParams['font.size'] = 14"
   ]
  },
  {
   "cell_type": "markdown",
   "metadata": {},
   "source": [
    "https://facebook.github.io/prophet/docs/seasonality,_holiday_effects,_and_regressors.html#additional-regressors"
   ]
  },
  {
   "cell_type": "markdown",
   "metadata": {},
   "source": [
    "https://nbviewer.jupyter.org/github/nicolasfauchereau/Auckland_Cycling/blob/master/notebooks/Auckland_cycling_and_weather.ipynb"
   ]
  },
  {
   "cell_type": "code",
   "execution_count": 2,
   "metadata": {
    "ExecuteTime": {
     "end_time": "2019-12-18T16:10:10.845006Z",
     "start_time": "2019-12-18T16:10:10.839021Z"
    }
   },
   "outputs": [
    {
     "data": {
      "text/plain": [
       "'0.5'"
      ]
     },
     "execution_count": 2,
     "metadata": {},
     "output_type": "execute_result"
    }
   ],
   "source": [
    "fbprophet.__version__"
   ]
  },
  {
   "cell_type": "code",
   "execution_count": 3,
   "metadata": {
    "ExecuteTime": {
     "end_time": "2019-12-18T16:10:10.957703Z",
     "start_time": "2019-12-18T16:10:10.928781Z"
    }
   },
   "outputs": [],
   "source": [
    "codepath = \"G:/My Drive/Python/GitHub/Leland Harris Analysis/\"\n",
    "sys.path.append(codepath)\n",
    "import utils"
   ]
  },
  {
   "cell_type": "code",
   "execution_count": 4,
   "metadata": {
    "ExecuteTime": {
     "end_time": "2019-12-18T16:10:11.762571Z",
     "start_time": "2019-12-18T16:10:11.036493Z"
    }
   },
   "outputs": [],
   "source": [
    "#llpath = \"E:/My Drive/Python/Pycharm/loggerloader/\"\n",
    "llpath = \"G:/My Drive/Python/Pycharm/loggerloader/\"\n",
    "sys.path.append(llpath)\n",
    "import loggerloader as ll"
   ]
  },
  {
   "cell_type": "code",
   "execution_count": 5,
   "metadata": {
    "ExecuteTime": {
     "end_time": "2019-12-18T16:10:11.871259Z",
     "start_time": "2019-12-18T16:10:11.854304Z"
    }
   },
   "outputs": [],
   "source": [
    "import importlib.util\n",
    "spec = importlib.util.spec_from_file_location(\"dbconnect\", \"G:/My Drive/Python/dbconnect.py\")\n",
    "dbconnect = importlib.util.module_from_spec(spec)\n",
    "spec.loader.exec_module(dbconnect)\n",
    "engine = dbconnect.postconn_ugs()"
   ]
  },
  {
   "cell_type": "code",
   "execution_count": 6,
   "metadata": {
    "ExecuteTime": {
     "end_time": "2019-12-18T16:10:11.956034Z",
     "start_time": "2019-12-18T16:10:11.952044Z"
    }
   },
   "outputs": [],
   "source": [
    "#file_place = \"G:/My Drive/WORK/Leland_Harris/intermediate_data/\"\n",
    "file_place = \"G:/My Drive/WORK/Leland_Harris/intermediate_data/\""
   ]
  },
  {
   "cell_type": "markdown",
   "metadata": {},
   "source": [
    "# Define Functions"
   ]
  },
  {
   "cell_type": "code",
   "execution_count": 7,
   "metadata": {
    "ExecuteTime": {
     "end_time": "2019-12-18T16:10:12.095659Z",
     "start_time": "2019-12-18T16:10:12.083692Z"
    }
   },
   "outputs": [],
   "source": [
    "def calc_wat_year(df):\n",
    "  df.loc[:,'month'] = df.index.month\n",
    "  df.loc[:,'year'] = df.index.year\n",
    "  df.loc[:,'doy'] = df.index.dayofyear\n",
    "  \n",
    "  df['water year'] = df.index.shift(-9,freq='M').year+1\n",
    "  df['ones'] = 1\n",
    "  df['water year doy'] = df['ones'].groupby(df['water year']).cumsum()\n",
    "  df['doylen'] = df['ones'].groupby(df['water year']).count()\n",
    "  df['water year doy1'] = df.apply(lambda df: df['doy']-273 if df['water year'] > df['year'] else df['doy']+92,1)\n",
    "  return df\n"
   ]
  },
  {
   "cell_type": "code",
   "execution_count": 8,
   "metadata": {
    "ExecuteTime": {
     "end_time": "2019-12-18T16:10:12.225312Z",
     "start_time": "2019-12-18T16:10:12.202374Z"
    }
   },
   "outputs": [],
   "source": [
    "def crosscorr(datax, datay, lag=0):\n",
    "    ''' \n",
    "    http://stackoverflow.com/questions/33171413/cross-correlation-time-lag-correlation-with-pandas\n",
    "    Lag-N cross correlation. \n",
    "    Parameters\n",
    "    ----------\n",
    "    lag : int, default 0\n",
    "    datax, datay : pandas.Series objects of equal length\n",
    "\n",
    "    Returns\n",
    "    ----------\n",
    "    crosscorr : float\n",
    "    '''\n",
    "    return datax.corr(datay.shift(lag))\n",
    "\n",
    "def scatterColor(x0,y,w):\n",
    "    \"\"\"Creates scatter plot with points colored by variable.\n",
    "    All input arrays must have matching lengths\n",
    "\n",
    "    Arg:\n",
    "        x0 (array): \n",
    "            array of x values\n",
    "        y (array): \n",
    "            array of y values\n",
    "        w (array): \n",
    "            array of scalar values\n",
    "\n",
    "    Returns:\n",
    "        slope and intercept of best fit line\n",
    "    \n",
    "    \"\"\"\n",
    "    import matplotlib as mpl\n",
    "    import matplotlib.cm as cm\n",
    "    cmap = plt.cm.get_cmap('RdYlBu')\n",
    "    norm = mpl.colors.Normalize(vmin=w.min(), vmax=w.max())\n",
    "    m = cm.ScalarMappable(norm=norm, cmap=cmap)\n",
    "    m.set_array(w)\n",
    "    sc = plt.scatter(x0, y, label='', color = m.to_rgba(w))\n",
    "\n",
    "    xa = sm.add_constant(x0)\n",
    "\n",
    "    est = sm.RLM(y, xa).fit()\n",
    "    r2 = sm.WLS(y, xa, weights=est.weights).fit().rsquared\n",
    "    slope = est.params[1]\n",
    "\n",
    "    x_prime = np.linspace(np.min(x0),np.max(x0),100)[:, np.newaxis]\n",
    "    x_prime = sm.add_constant(x_prime)\n",
    "    y_hat = est.predict(x_prime)\n",
    "\n",
    "    const = est.params[0]\n",
    "    y2 = [i*slope + const for i in x0]\n",
    "\n",
    "    plt.xlabel('Barometric Pressure (ft water)')\n",
    "    plt.ylabel('Transducer Pressure (ft water)')\n",
    "    lin = linregress(x0,y)\n",
    "    x1 = np.arange(np.min(x0), np.max(x0),0.1)\n",
    "    y1 = [i*lin[0]+lin[1] for i in x1]\n",
    "    y2 = [i*slope+const for i in x1]\n",
    "    plt.plot(x1,y1,c='g',label='simple linear regression m = {:.2f} b = {:.0f}, r^2 = {:.2f}'.format(lin[0],lin[1],lin[2]**2))\n",
    "    plt.plot(x1,y2,c='r',label='rlm regression m = {:.2f} b = {:.0f}, r2 = {:.2f}'.format(slope,const,r2))\n",
    "    plt.legend()\n",
    "    cbar = plt.colorbar(m)\n",
    "\n",
    "    cbar.set_label('Julian Date')\n",
    "\n",
    "    return slope,const"
   ]
  },
  {
   "cell_type": "code",
   "execution_count": 9,
   "metadata": {
    "ExecuteTime": {
     "end_time": "2019-12-18T16:10:12.337013Z",
     "start_time": "2019-12-18T16:10:12.320060Z"
    }
   },
   "outputs": [],
   "source": [
    "def plotlystuff(datasets, colnames, chrttypes=None, datatitles=None, chrttitle = 'well', colors=None,\n",
    "                two_yaxes = False, axisdesig= None, axislabels=['Levels','Barometric Pressure']):\n",
    "    \n",
    "    if chrttypes is None:\n",
    "        chrttypes = ['lines']*len(datasets)\n",
    "    \n",
    "    if datatitles is None:\n",
    "        datatitles = colnames\n",
    "    \n",
    "    if axisdesig is None:\n",
    "        axisdesig = ['y1']*len(datasets)\n",
    "        \n",
    "    if colors is None:\n",
    "        if len(datasets) <= 5: \n",
    "            colors = ['#228B22','#F7DC6F','#FF1493','#663399','#FF0000']\n",
    "        else:\n",
    "            colors = []\n",
    "            for i in range(len(datasets)):\n",
    "                colors[i] = '#{:02x}{:02x}{:02x}'.format(r(), r(), r())\n",
    "        \n",
    "    r = lambda: random.randint(0,255)\n",
    "    \n",
    "    modetypes = ['markers','lines+markers','lines']\n",
    "    datum = {}\n",
    "    \n",
    "    for i in range(len(datasets)):\n",
    "        datum['d' + str(i)] = go.Scatter(\n",
    "            x=datasets[i].index,\n",
    "            y=datasets[i][colnames[i]],\n",
    "            name = datatitles[i],\n",
    "            line = dict(color = colors[i]),\n",
    "            mode = chrttypes[i],\n",
    "            opacity = 0.8,\n",
    "            yaxis = axisdesig[i])\n",
    "        \n",
    "    data = list(datum.values())\n",
    "\n",
    "    layout = dict(\n",
    "        title=chrttitle,\n",
    "        xaxis=dict(\n",
    "            rangeslider=dict(\n",
    "                visible = True\n",
    "            ),\n",
    "            type='date',\n",
    "            tickformat='%Y-%m-%d %H:%M'\n",
    "        ),\n",
    "        yaxis=dict(title=axislabels[0],\n",
    "                   titlefont=dict(color='#1f77b4'),\n",
    "                   tickfont=dict(color='#1f77b4')),\n",
    "    )\n",
    "    \n",
    "    \n",
    "    if two_yaxes:\n",
    "        layout['yaxis2'] = dict(title=axislabels[1], titlefont=dict(color='#ff7f0e'),\n",
    "                    tickfont=dict(color='#ff7f0e'),\n",
    "                    anchor='x',\n",
    "                    overlaying='y',\n",
    "                    side='right',\n",
    "                    position=0.15)\n",
    "\n",
    "    fig = dict(data=data, layout=layout)\n",
    "    iplot(fig, filename = 'well')\n",
    "    return "
   ]
  },
  {
   "cell_type": "code",
   "execution_count": 10,
   "metadata": {
    "ExecuteTime": {
     "end_time": "2019-12-18T16:10:12.427770Z",
     "start_time": "2019-12-18T16:10:12.416800Z"
    }
   },
   "outputs": [],
   "source": [
    "def plot_joint_plot(verif, x='yhat', y='y', title=None, fpath = '../figures/paper', fname = None): \n",
    "    \"\"\"\n",
    "    \n",
    "    Parameters\n",
    "    ---------- \n",
    "    verif : pandas.DataFrame \n",
    "    x : string \n",
    "        The variable on the x-axis\n",
    "        Defaults to `yhat`, i.e. the forecast or estimated values.\n",
    "    y : string \n",
    "        The variable on the y-axis\n",
    "        Defaults to `y`, i.e. the observed values\n",
    "    title : string \n",
    "        The title of the figure, default `None`. \n",
    "    \n",
    "    fpath : string \n",
    "        The path to save the figures, default to `../figures/paper`\n",
    "    fname : string\n",
    "        The filename for the figure to be saved\n",
    "        ommits the extension, the figure is saved in png, jpeg and pdf\n",
    " \n",
    "    Returns\n",
    "    -------\n",
    "    f : matplotlib Figure object\n",
    "    \"\"\"\n",
    "\n",
    "    g = sns.jointplot(x='yhat', y='y', data = verif, kind=\"reg\", color=\"0.4\")\n",
    "    \n",
    "    g.fig.set_figwidth(8)\n",
    "    g.fig.set_figheight(8)\n",
    "\n",
    "    ax = g.fig.axes[1]\n",
    "    \n",
    "    if title is not None: \n",
    "        ax.set_title(title, fontsize=16)\n",
    "\n",
    "    ax = g.fig.axes[0]\n",
    "    fudge = verif.yhat.std()/2\n",
    "    ax.set_xlim([verif.yhat.min()-fudge, verif.yhat.max()+fudge])\n",
    "    ax.set_ylim([verif.y.min()-fudge, verif.y.max()+fudge])\n",
    "\n",
    "    ax.text(verif.yhat.min(), verif.y.max()-fudge, \"R = {:+4.2f}\\nMAE = {:4.1f}\".format(verif.loc[:,['y','yhat']].corr().iloc[0,1], MAE(verif.loc[:,'y'].values, verif.loc[:,'yhat'].values)), fontsize=16)\n",
    "\n",
    "    ax.set_xlabel(\"model's estimates\", fontsize=15)\n",
    "    \n",
    "    ax.set_ylabel(\"observations\", fontsize=15)\n",
    "    \n",
    "    ax.grid(ls=':')\n",
    "\n",
    "    [l.set_fontsize(13) for l in ax.xaxis.get_ticklabels()]\n",
    "    [l.set_fontsize(13) for l in ax.yaxis.get_ticklabels()];\n",
    "\n",
    "    ax.grid(ls=':')\n",
    "    return g"
   ]
  },
  {
   "cell_type": "code",
   "execution_count": 11,
   "metadata": {
    "ExecuteTime": {
     "end_time": "2019-12-18T16:10:18.869178Z",
     "start_time": "2019-12-18T16:10:18.850228Z"
    }
   },
   "outputs": [],
   "source": [
    "def plot_verif(verif, year=2017):\n",
    "    \n",
    "    verif.index = pd.to_datetime(verif.index)\n",
    "    f, ax = plt.subplots(figsize=(14, 8))\n",
    "\n",
    "    train = verif.loc[:str(year - 1),:]\n",
    "\n",
    "    ax.plot(train.resample('1H').mean().index, train.resample('1H').mean().y, 'ko', markersize=3)\n",
    "\n",
    "    ax.plot(train.index, train.yhat, color='steelblue', lw=0.5)\n",
    "\n",
    "    ax.fill_between(train.index, train.yhat_lower, train.yhat_upper, color='steelblue', alpha=0.3)\n",
    "\n",
    "    test = verif.loc[str(year):,:]\n",
    "\n",
    "    ax.plot(test.resample('1H').mean().index, test.resample('1H').mean().y, 'ro', markersize=3)\n",
    "\n",
    "    ax.plot(test.index, test.yhat, color='coral', lw=0.5)\n",
    "\n",
    "    ax.fill_between(test.index, test.yhat_lower, test.yhat_upper, color='coral', alpha=0.3)\n",
    "\n",
    "    ax.axvline(pd.to_datetime(str(year),format='%Y'), color='0.8', alpha=0.7)\n",
    "\n",
    "    ax.grid(ls=':', lw=0.5)\n",
    "\n",
    "    return f\n",
    "\n",
    "def plot_verif_component(verif, component='rain', year=2017): \n",
    "    \"\"\"\n",
    "    plots a specific component of the `verif` DataFrame\n",
    "   Parameters\n",
    "    ----------\n",
    "    verif : pandas.DataFrame\n",
    "        The `verif` DataFrame coming from the `make_verif` function in this package. \n",
    "    component : string \n",
    "        The name of the component (i.e. column name) to plot in the `verif` DataFrame. \n",
    "    year : integer\n",
    "        The year used to separate the training and test set. Default 2017\n",
    "    Returns\n",
    "    -------\n",
    "    f : matplotlib Figure object\n",
    "    \"\"\"\n",
    "    verif.index = pd.to_datetime(verif.index)\n",
    "    f, ax = plt.subplots(figsize=(14, 7))\n",
    "    \n",
    "    train = verif.loc[:str(year - 1),:]\n",
    "        \n",
    "    ax.plot(train.index, train.loc[:,component] * 100, color='0.8', lw=1, ls='-')\n",
    "    \n",
    "    ax.fill_between(train.index, train.loc[:, component+'_lower'] * 100, train.loc[:, component+'_upper'] * 100, color='0.8', alpha=0.3)\n",
    "    \n",
    "    test = verif.loc[str(year):,:]\n",
    "        \n",
    "    ax.plot(test.index, test.loc[:,component] * 100, color='k', lw=1, ls='-')\n",
    "    \n",
    "    ax.fill_between(test.index, test.loc[:, component+'_lower'] * 100, test.loc[:, component+'_upper'] * 100, color='0.8', alpha=0.3)\n",
    "    \n",
    "    ax.axvline(pd.to_datetime(str(year),format='%Y'), color='k', alpha=0.7)\n",
    "    \n",
    "    ax.grid(ls=':', lw=0.5)\n",
    "    \n",
    "    return f"
   ]
  },
  {
   "cell_type": "code",
   "execution_count": 12,
   "metadata": {
    "ExecuteTime": {
     "end_time": "2019-12-18T16:10:20.408214Z",
     "start_time": "2019-12-18T16:10:20.403227Z"
    }
   },
   "outputs": [],
   "source": [
    "def prepare_data(data, year=2017): \n",
    "    \"\"\"\n",
    "    prepare the data for ingestion by fbprophet: \n",
    "    see: https://facebook.github.io/prophet/docs/quick_start.html\n",
    "    \n",
    "    1) divide in training and test set, using the `year` parameter (int)\n",
    "    \n",
    "    2) reset the index and rename the `datetime` column to `ds`\n",
    "    \n",
    "    returns the training and test dataframes\n",
    "    Parameters\n",
    "    ----------\n",
    "    data : pandas.DataFrame \n",
    "        The dataframe to prepare, needs to have a datetime index\n",
    "    year: integer \n",
    "        The year separating the training set and the test set (includes the year)\n",
    "    Returns\n",
    "    -------\n",
    "    data_train : pandas.DataFrame\n",
    "        The training set, formatted for fbprophet.\n",
    "    data_test :  pandas.Dataframe\n",
    "        The test set, formatted for fbprophet.\n",
    "    \"\"\"\n",
    "    \n",
    "    \n",
    "    data_train = data.loc[:str(year - 1),:]\n",
    "    \n",
    "    data_test = data.loc[str(year):,:]\n",
    "    \n",
    "    data_train.reset_index(inplace=True)\n",
    "    \n",
    "    data_test.reset_index(inplace=True)\n",
    "    \n",
    "    data_train = data_train.rename({'datetime':'ds'}, axis=1)\n",
    "    \n",
    "    data_test = data_test.rename({'datetime':'ds'}, axis=1)\n",
    "    \n",
    "    return data_train, data_test"
   ]
  },
  {
   "cell_type": "markdown",
   "metadata": {},
   "source": [
    "# Import and Merge Data"
   ]
  },
  {
   "cell_type": "code",
   "execution_count": null,
   "metadata": {
    "ExecuteTime": {
     "end_time": "2019-12-17T22:24:02.951152Z",
     "start_time": "2019-12-17T22:24:01.433298Z"
    }
   },
   "outputs": [],
   "source": [
    "ugs_clim_raw_dly = pd.read_pickle(file_place + \"ugs_clim_dly.pickle\")\n",
    "climate_data = pd.read_pickle(file_place+'climate_data.pickle')\n",
    "wls = pd.read_pickle(file_place+\"raw_hydrograph_data.pickle\")\n",
    "st_mt_df = pd.read_pickle(file_place+'climate_station_metadata1.pickle')\n",
    "wls_piv = pd.read_pickle(file_place+\"pivotedwells.pickle\")\n",
    "prismloc = pd.read_pickle(file_place+'prism_local_SG25.pickle')\n",
    "sntlhrly = pd.read_pickle(file_place+\"wheeler_snotel.pickle\")"
   ]
  },
  {
   "cell_type": "markdown",
   "metadata": {
    "ExecuteTime": {
     "end_time": "2019-12-11T23:53:55.715735Z",
     "start_time": "2019-12-11T23:53:55.710747Z"
    }
   },
   "source": [
    "![Changepoint](https://miro.medium.com/max/507/1*jEFOLncknBJ8cPQSBQDktA.png)"
   ]
  },
  {
   "cell_type": "code",
   "execution_count": null,
   "metadata": {
    "ExecuteTime": {
     "end_time": "2019-12-17T16:01:09.998382Z",
     "start_time": "2019-12-17T16:01:09.994424Z"
    }
   },
   "outputs": [],
   "source": [
    "prismloc.index = pd.to_datetime(prismloc.index)"
   ]
  },
  {
   "cell_type": "code",
   "execution_count": null,
   "metadata": {
    "ExecuteTime": {
     "end_time": "2019-12-17T16:01:12.810859Z",
     "start_time": "2019-12-17T16:01:11.016542Z"
    }
   },
   "outputs": [],
   "source": [
    "prismloc['cdm_ppt'] = prismloc['PRISM_ppt _mm'].apply(lambda x: x- prismloc['PRISM_ppt _mm'].mean(),1).cumsum()\n",
    "climate_data['cdm_ppt'] = climate_data['PRISM_ppt _mm'].apply(lambda x: x- climate_data['PRISM_ppt _mm'].mean(),1).cumsum()"
   ]
  },
  {
   "cell_type": "code",
   "execution_count": null,
   "metadata": {
    "ExecuteTime": {
     "end_time": "2019-12-17T16:01:13.619926Z",
     "start_time": "2019-12-17T16:01:13.425434Z"
    }
   },
   "outputs": [],
   "source": [
    "y = climate_data.loc['2009':,'partoun_snowfall']\n",
    "x = climate_data.loc['2009':,'partoun_snowfall'].index\n",
    "plt.plot(x,y)"
   ]
  },
  {
   "cell_type": "code",
   "execution_count": null,
   "metadata": {
    "ExecuteTime": {
     "end_time": "2019-12-17T16:01:14.763797Z",
     "start_time": "2019-12-17T16:01:14.379817Z"
    }
   },
   "outputs": [],
   "source": [
    "#x = prismloc.index\n",
    "#y = prismloc['cdm_ppt']\n",
    "y3 = prismloc.loc['2009':,'PRISM_vpdmax _hpa']\n",
    "x3 = prismloc.loc['2009':,'PRISM_vpdmax _hpa'].index\n",
    "\n",
    "plt.plot(x3,y3,color='red')\n",
    "#plt.plot(x,y,color='red',zorder=0)\n",
    "x1 = wls_piv.index\n",
    "y1 = wls_piv['SG25A_wle']\n",
    "plt.twinx()\n",
    "plt.plot(x1,y1)"
   ]
  },
  {
   "cell_type": "code",
   "execution_count": null,
   "metadata": {
    "ExecuteTime": {
     "end_time": "2019-12-17T16:01:19.561709Z",
     "start_time": "2019-12-17T16:01:19.541743Z"
    }
   },
   "outputs": [],
   "source": [
    "wls_daily = wls_piv.resample('1D').mean()\n",
    "#wls_daily = wls_daily['2010-11-01':'2019-09-24']\n",
    "prismsub=prismloc[['PRISM_vpdmax _hpa','cdm_ppt']].resample('1D').mean().interpolate(method='time')\n",
    "#climsamp = climate_data.loc['2010-11-01':'2019-09-24',['callao_ppt','callao_maxtemp','callao_et','Wheeler_swe_mm']].resample('1D').mean().interpolate(method='time').dropna()\n",
    "#climsamp = climate_data.loc['2010-11-01':'2019-09-24',['eskdale_ppt','eskdale_maxtemp','eskdale_et','Wheeler_swe_mm']].resample('1D').mean().interpolate(method='time').dropna()"
   ]
  },
  {
   "cell_type": "code",
   "execution_count": null,
   "metadata": {
    "ExecuteTime": {
     "end_time": "2019-12-17T16:01:23.930418Z",
     "start_time": "2019-12-17T16:01:22.482470Z"
    }
   },
   "outputs": [],
   "source": [
    "trout_creek = \"https://waterdata.usgs.gov/nwis/inventory?agency_code=USGS&site_no=10172870\"\n",
    "flow_data = wa.nwis('dv',[10172870],'sites')\n",
    "trout = flow_data.data\n",
    "trt = trout.rename(columns={'value':'trout'})['trout'].to_frame().resample('1D').mean().interpolate(method='time')\n"
   ]
  },
  {
   "cell_type": "code",
   "execution_count": null,
   "metadata": {
    "ExecuteTime": {
     "end_time": "2019-12-17T16:01:25.697122Z",
     "start_time": "2019-12-17T16:01:25.688117Z"
    }
   },
   "outputs": [],
   "source": [
    "comb_data = pd.concat([wls_daily,prismsub,trt],axis=1)"
   ]
  },
  {
   "cell_type": "code",
   "execution_count": null,
   "metadata": {
    "ExecuteTime": {
     "end_time": "2019-12-17T16:01:30.937642Z",
     "start_time": "2019-12-17T16:01:26.799827Z"
    },
    "scrolled": true
   },
   "outputs": [],
   "source": [
    "\n",
    "for col in wls_piv:\n",
    "    if 'wle' in col:\n",
    "        plt.plot(wls_piv.index,wls_piv[col],label=col.split('_')[0])\n",
    "plt.legend()\n",
    "tickdates = pd.date_range(wls_piv.first_valid_index(),wls_piv.last_valid_index(),freq='1YS')\n",
    "plt.xlim(wls_piv.first_valid_index(),wls_piv.last_valid_index())\n",
    "plt.xticks(tickdates,[datetime.datetime.strftime(i,'%Y') for i in tickdates])\n",
    "plt.grid()"
   ]
  },
  {
   "cell_type": "markdown",
   "metadata": {},
   "source": [
    "# Run Model"
   ]
  },
  {
   "cell_type": "markdown",
   "metadata": {},
   "source": [
    "## Hourly"
   ]
  },
  {
   "cell_type": "code",
   "execution_count": null,
   "metadata": {
    "ExecuteTime": {
     "end_time": "2019-12-17T19:00:44.614042Z",
     "start_time": "2019-12-17T19:00:40.543967Z"
    }
   },
   "outputs": [],
   "source": [
    "plot_joint_plot(forecast['SG25A_wle'][['yhat','y']].dropna(), title=col)"
   ]
  },
  {
   "cell_type": "code",
   "execution_count": null,
   "metadata": {
    "ExecuteTime": {
     "end_time": "2019-12-17T23:42:27.169456Z",
     "start_time": "2019-12-17T22:25:09.934648Z"
    }
   },
   "outputs": [],
   "source": [
    "model = {}\n",
    "forecast = {}\n",
    "\n",
    "version = 14\n",
    "\n",
    "wls = pd.read_pickle(file_place+\"raw_hydrograph_data.pickle\")\n",
    "wls_piv = pd.read_pickle(file_place+\"pivotedwells.pickle\")\n",
    "sntlhrly = pd.read_pickle(file_place+\"wheeler_snotel.pickle\")\n",
    "\n",
    "comb_data = wls_piv#.resample('1H').mean().interpolate(method='time')\n",
    "comb_data = comb_data['2010-10-01':'2019-08-07']\n",
    "\n",
    "for col in comb_data.columns:\n",
    "    if 'wle' in col:\n",
    "        df = comb_data.rename(columns={col:'y'})\n",
    "        df = df.dropna(subset=['y','snd'])\n",
    "        df.index.name = 'datetime'\n",
    "        data_train, data_test = utils.prepare_data(df, 2017)\n",
    "        m = Prophet(weekly_seasonality=False)\n",
    "        m.fit(data_train)\n",
    "\n",
    "        future = m.make_future_dataframe(periods=len(data_test), freq='1D')\n",
    "        futures = future.copy() \n",
    "        futures.index = pd.to_datetime(futures.ds)\n",
    "        futures = futures.merge(df, left_index=True, right_index=True)\n",
    "        futures = futures.reset_index(drop = True)\n",
    "\n",
    "        forecast[col] = m.predict(futures)\n",
    "        \n",
    "        verif = utils.make_verif(forecast[col], data_train, data_test)\n",
    "        fig1 = plot_verif(verif)\n",
    "        plt.ylabel('Water Elevation (ft)')\n",
    "        fig1.savefig(file_place+f\"prophet_{col}_hourly_verif_v{version}.pdf\")\n",
    "        plt.close()\n",
    "        \n",
    "        fig2 = m.plot_components(forecast[col])\n",
    "        fig2.savefig(file_place+f\"prophet_comp_{col}_hourly_v{version}.pdf\")\n",
    "        plt.close()\n",
    "        \n",
    "        model[col] = m\n",
    "        try:\n",
    "            fig3 = plot_joint_plot(verif.loc['2017':,['yhat','y']].dropna(), title=col)\n",
    "            fig3.savefig(file_place+f\"prophet_joint_{col}_hourly_v{version}.pdf\")\n",
    "            plt.close()\n",
    "        except:\n",
    "            pass\n",
    "        \n",
    "        forecast[col].to_pickle(file_place+f'{col}_forecast_hourly_v{version}.pickle')\n",
    "        print(col)"
   ]
  },
  {
   "cell_type": "markdown",
   "metadata": {},
   "source": [
    "### Hourly With Variable Daily Seasonality"
   ]
  },
  {
   "cell_type": "code",
   "execution_count": 25,
   "metadata": {
    "ExecuteTime": {
     "end_time": "2019-12-18T20:51:36.281611Z",
     "start_time": "2019-12-18T19:36:23.212211Z"
    }
   },
   "outputs": [
    {
     "name": "stdout",
     "output_type": "stream",
     "text": [
      "SG25A_wle\n",
      "SG25B_wle\n",
      "SG25C_wle\n",
      "SG25D_wle\n",
      "1011_wle\n",
      "1012_wle\n",
      "1013_wle\n",
      "1014_wle\n",
      "1016_wle\n"
     ]
    },
    {
     "name": "stderr",
     "output_type": "stream",
     "text": [
      "C:\\Users\\paulinkenbrandt\\AppData\\Local\\Continuum\\anaconda3\\envs\\py37\\lib\\site-packages\\numpy\\lib\\histograms.py:898: RuntimeWarning:\n",
      "\n",
      "invalid value encountered in true_divide\n",
      "\n"
     ]
    },
    {
     "name": "stdout",
     "output_type": "stream",
     "text": [
      "1017_wle\n",
      "1019_wle\n",
      "1020_wle\n"
     ]
    },
    {
     "data": {
      "image/png": "[encoded data removed]",
      "text/plain": [
       "<Figure size 432x432 with 3 Axes>"
      ]
     },
     "metadata": {
      "needs_background": "light"
     },
     "output_type": "display_data"
    }
   ],
   "source": [
    "model = {}\n",
    "forecast = {}\n",
    "\n",
    "version = 14\n",
    "\n",
    "wls = pd.read_pickle(file_place+\"raw_hydrograph_data.pickle\")\n",
    "wls_piv = pd.read_pickle(file_place+\"pivotedwells.pickle\")\n",
    "sntlhrly = pd.read_pickle(file_place+\"wheeler_snotel.pickle\")\n",
    "\n",
    "comb_data = wls_piv#.resample('1H').mean().interpolate(method='time')\n",
    "comb_data = comb_data['2010-10-01':'2019-08-07']\n",
    "\n",
    "for col in comb_data.columns:\n",
    "    if 'wle' in col:\n",
    "        df = comb_data.rename(columns={col:'y'})\n",
    "        df = df.dropna(subset=['y'])\n",
    "        df.index.name = 'datetime'\n",
    "        df.index = pd.to_datetime(df.index)\n",
    "        df['month'] = df.index.month\n",
    "        \n",
    "        def is_evp_season(x):\n",
    "            return (x < 10 or x > 3)\n",
    "\n",
    "        df['on_season'] = df['month'].apply(lambda x: is_evp_season(x),1)\n",
    "        df['off_season'] = ~df['month'].apply(lambda x: is_evp_season(x),1)\n",
    "        data_train, data_test = utils.prepare_data(df, 2017)\n",
    "        \n",
    "        m = Prophet(daily_seasonality=False, weekly_seasonality=False)\n",
    "        m.add_seasonality(name='daily_on_season', period=24, fourier_order=3, condition_name='on_season')\n",
    "        m.add_seasonality(name='daily_off_season', period=24, fourier_order=3, condition_name='off_season')\n",
    "       \n",
    "        m.fit(data_train)\n",
    "\n",
    "        future = m.make_future_dataframe(periods=len(data_test), freq='1D')\n",
    "        futures = future.copy() \n",
    "        futures.index = pd.to_datetime(futures.ds)\n",
    "        futures = futures.merge(df, left_index=True, right_index=True)\n",
    "        futures = futures.reset_index(drop = True)\n",
    "        \n",
    "        forecast[col] = m.predict(futures)\n",
    "        \n",
    "        verif = utils.make_verif(forecast[col], data_train, data_test)\n",
    "        fig1 = plot_verif(verif)\n",
    "        plt.ylabel('Water Elevation (ft)')\n",
    "        fig1.savefig(file_place+f\"prophet_{col}_hourly_subdail_verif_v{version}.pdf\")\n",
    "        plt.close()\n",
    "        \n",
    "        fig2 = m.plot_components(forecast[col])\n",
    "        fig2.savefig(file_place+f\"prophet_comp_{col}_hourly_subdail_v{version}.pdf\")\n",
    "        plt.close()\n",
    "        \n",
    "        model[col] = m\n",
    "        try:\n",
    "            fig3 = plot_joint_plot(verif.loc['2017':,['yhat','y']].dropna(), title=col)\n",
    "            fig3.savefig(file_place+f\"prophet_joint_{col}_hourly_subdail_v{version}.pdf\")\n",
    "            plt.close()\n",
    "        except:\n",
    "            pass\n",
    "        \n",
    "        forecast[col].to_pickle(file_place+f'{col}_forecast_hourly_subdail_v{version}.pickle')\n",
    "        print(col)"
   ]
  },
  {
   "cell_type": "markdown",
   "metadata": {
    "ExecuteTime": {
     "end_time": "2019-12-17T15:33:35.548970Z",
     "start_time": "2019-12-17T15:33:34.733948Z"
    }
   },
   "source": [
    "### Hourly With Regressor"
   ]
  },
  {
   "cell_type": "code",
   "execution_count": 26,
   "metadata": {
    "ExecuteTime": {
     "end_time": "2019-12-18T22:59:34.252236Z",
     "start_time": "2019-12-18T21:52:02.553782Z"
    }
   },
   "outputs": [
    {
     "name": "stdout",
     "output_type": "stream",
     "text": [
      "SG25A_wle\n",
      "SG25B_wle\n",
      "SG25C_wle\n",
      "SG25D_wle\n",
      "1011_wle\n",
      "1012_wle\n",
      "1013_wle\n",
      "1014_wle\n",
      "1016_wle\n"
     ]
    },
    {
     "name": "stderr",
     "output_type": "stream",
     "text": [
      "C:\\Users\\paulinkenbrandt\\AppData\\Local\\Continuum\\anaconda3\\envs\\py37\\lib\\site-packages\\numpy\\lib\\histograms.py:898: RuntimeWarning:\n",
      "\n",
      "invalid value encountered in true_divide\n",
      "\n"
     ]
    },
    {
     "name": "stdout",
     "output_type": "stream",
     "text": [
      "1017_wle\n",
      "1019_wle\n",
      "1020_wle\n"
     ]
    },
    {
     "data": {
      "image/png": "[encoded data removed]",
      "text/plain": [
       "<Figure size 432x432 with 3 Axes>"
      ]
     },
     "metadata": {
      "needs_background": "light"
     },
     "output_type": "display_data"
    }
   ],
   "source": [
    "model = {}\n",
    "forecast = {}\n",
    "version = 14\n",
    "\n",
    "wls = pd.read_pickle(file_place+\"raw_hydrograph_data.pickle\")\n",
    "wls_piv = pd.read_pickle(file_place+\"pivotedwells.pickle\")\n",
    "sntlhrly = pd.read_pickle(file_place+\"wheeler_snotel.pickle\")\n",
    "sntlhrly = sntlhrly.resample('1H').mean().interpolate(method='time').rename(columns={'Snow Depth (in)':'snd'})\n",
    "sntlhrly['snd'] = sntlhrly['snd'].apply(lambda x: np.nan if x>100 or x<0 else x, 1).interpolate(method='time')\n",
    "wlsntl = pd.concat([wls_piv,sntlhrly],axis=1)\n",
    "comb_data = wlsntl\n",
    "comb_data = comb_data['2010-10-01':'2019-08-07']\n",
    "\n",
    "for col in comb_data.columns:\n",
    "    if 'wle' in col:\n",
    "        df = comb_data.rename(columns={col:'y'})\n",
    "        df = df.dropna(subset=['y','snd'])\n",
    "        df.index.name = 'datetime'\n",
    "        data_train, data_test = utils.prepare_data(df, 2017)\n",
    "        m = Prophet(weekly_seasonality=False)\n",
    "        m.add_regressor('snd')      \n",
    "        m.fit(data_train)\n",
    "        \n",
    "        future = m.make_future_dataframe(periods=len(data_test), freq='1D')\n",
    "        futures = future.copy() \n",
    "        futures.index = pd.to_datetime(futures.ds)\n",
    "        futures = futures.merge(df, left_index=True, right_index=True)\n",
    "        futures = futures.reset_index(drop = True)\n",
    "\n",
    "        forecast[col] = m.predict(futures)\n",
    "        \n",
    "        verif = utils.make_verif(forecast[col], data_train, data_test)\n",
    "        fig1 = plot_verif(verif)\n",
    "        plt.ylabel('Water Elevation (ft)')\n",
    "        fig1.savefig(file_place+f\"prophet_{col}_hourly_verif_reg_v{version}.pdf\")\n",
    "        plt.close()\n",
    "        \n",
    "        fig2 = m.plot_components(forecast[col])\n",
    "        fig2.savefig(file_place+f\"prophet_comp_{col}_hourly_reg_v{version}.pdf\")\n",
    "        plt.close()\n",
    "        \n",
    "        model[col] = m\n",
    "        \n",
    "        try:\n",
    "            fig3 = plot_joint_plot(verif.loc['2017':,['yhat','y']].dropna(), title=col)\n",
    "            fig3.savefig(file_place+f\"prophet_joint_{col}_hourly_reg_v{version}.pdf\")\n",
    "            plt.close()\n",
    "        except:\n",
    "            pass\n",
    "        \n",
    "        forecast[col].to_pickle(file_place+f'{col}_forecast_hourly_reg_v{version}.pickle')\n",
    "        print(col)"
   ]
  },
  {
   "cell_type": "code",
   "execution_count": null,
   "metadata": {},
   "outputs": [],
   "source": []
  },
  {
   "cell_type": "markdown",
   "metadata": {},
   "source": [
    "## Daily"
   ]
  },
  {
   "cell_type": "code",
   "execution_count": null,
   "metadata": {
    "ExecuteTime": {
     "end_time": "2019-12-12T23:14:44.328840Z",
     "start_time": "2019-12-12T23:14:44.318865Z"
    }
   },
   "outputs": [],
   "source": [
    "comb_data.columns"
   ]
  },
  {
   "cell_type": "code",
   "execution_count": null,
   "metadata": {
    "ExecuteTime": {
     "end_time": "2019-12-12T18:09:51.552272Z",
     "start_time": "2019-12-12T18:04:46.712167Z"
    }
   },
   "outputs": [],
   "source": [
    "\n",
    "model = {}\n",
    "forecast = {}\n",
    "verif = {}\n",
    "\n",
    "comb_data = comb_data['2010-10-01':]\n",
    "\n",
    "for col in comb_data:\n",
    "    if 'wle' in col:\n",
    "        df = comb_data.rename(columns={col:'y'}).resample('1D').mean()\n",
    "        df.index.name = 'datetime'\n",
    "        data_train, data_test = utils.prepare_data(df, 2017)\n",
    "        m = Prophet(seasonality_mode='additive')\n",
    "        \n",
    "        m.add_regressor('PRISM_vpdmax _hpa', prior_scale=0.5, mode='additive')\n",
    "        m.add_regressor('cdm_ppt', prior_scale=0.5, mode='additive')\n",
    "        m.add_regressor('trout', prior_scale=0.5, mode='additive')\n",
    "        m.fit(data_train)\n",
    "        future = m.make_future_dataframe(periods=len(data_test), freq='1D')\n",
    "        futures = future.copy() \n",
    "        futures.index = pd.to_datetime(futures.ds)\n",
    "        futures = futures.merge(df, left_index=True, right_index=True)\n",
    "        futures = futures.reset_index(drop = True)\n",
    "        #regs = df.reset_index()[['ds','callao_ppt','callao_maxtemp','callao_et','Wheeler_swe_mm']]\n",
    "        #futures = pd.merge(future,regs,on='ds',how='left')\n",
    "        \n",
    "        forecast[col] = m.predict(futures)\n",
    "        fig1 = m.plot(forecast[col])\n",
    "        plt.ylabel('Water Elevation (ft)')\n",
    "        fig1.savefig(file_place+f\"prophet_{col}_daily.pdf\")\n",
    "        plt.close()\n",
    "        fig2 = m.plot_components(forecast[col])\n",
    "        fig2.savefig(file_place+f\"prophet_comp_{col}_daily.pdf\")\n",
    "        plt.close()\n",
    "        model[col] = m\n",
    "        verif[col] = utils.make_verif(forecast[col], data_train, data_test)\n",
    "        try:\n",
    "            fig3 = plot_joint_plot(verif[col].loc['2017':,['yhat','y']].dropna(), title=f'Test {col}')\n",
    "            fig3.savefig(file_place+f\"prophet_joint_{col}_daily.pdf\")\n",
    "            plt.close()\n",
    "        except:\n",
    "            pass\n",
    "        verif[col].to_pickle(file_place+f'{col}_verify_daily_v4.pickle')\n",
    "        forecast[col].to_pickle(file_place+f'{col}_forecast_daily_v4.pickle')\n",
    "        print(col)"
   ]
  },
  {
   "cell_type": "code",
   "execution_count": null,
   "metadata": {
    "ExecuteTime": {
     "end_time": "2019-12-12T14:03:34.022617Z",
     "start_time": "2019-12-12T14:03:33.737380Z"
    }
   },
   "outputs": [],
   "source": [
    "\n",
    "col = 'SG25A_wle'\n",
    "df = verif[col].loc['2017':,['yhat','y']].dropna()\n",
    "residuals = df['yhat'] - df['y']\n",
    "\n",
    "f, ax = plt.subplots(figsize=(8,8))\n",
    "sns.distplot(residuals, ax=ax, color='0.4')\n",
    "ax.grid(ls=':')\n",
    "ax.set_xlabel('residuals', fontsize=15)\n",
    "ax.set_ylabel(\"normalised frequency\", fontsize=15)\n",
    "ax.grid(ls=':')\n",
    "\n",
    "[l.set_fontsize(13) for l in ax.xaxis.get_ticklabels()]\n",
    "[l.set_fontsize(13) for l in ax.yaxis.get_ticklabels()];\n",
    "\n",
    "ax.axvline(0, color='0.4')\n",
    "\n",
    "ax.set_title('Residuals distribution (test set)', fontsize=17)\n",
    "\n",
    "ax.text(0.05, 0.85, \"Skewness = {:+4.2f}\\nMedian = {:+4.2f}\\nMean = {:+4.2f}\".\\\n",
    "        format(skew(residuals), residuals.median(), residuals.mean()), \\\n",
    "        fontsize=14, transform=ax.transAxes)"
   ]
  },
  {
   "cell_type": "code",
   "execution_count": null,
   "metadata": {
    "ExecuteTime": {
     "end_time": "2019-12-12T00:51:08.862884Z",
     "start_time": "2019-12-12T00:51:08.639474Z"
    }
   },
   "outputs": [],
   "source": [
    "f  = plot_verif_component(verif[col], component = 'cdm_ppt')"
   ]
  },
  {
   "cell_type": "code",
   "execution_count": null,
   "metadata": {
    "ExecuteTime": {
     "end_time": "2019-12-11T14:39:54.914281Z",
     "start_time": "2019-12-11T14:39:53.010378Z"
    }
   },
   "outputs": [],
   "source": [
    "m.plot_components(forecast['1020_wle'])"
   ]
  },
  {
   "cell_type": "code",
   "execution_count": null,
   "metadata": {
    "ExecuteTime": {
     "end_time": "2019-12-11T14:22:32.664704Z",
     "start_time": "2019-12-11T14:22:28.787069Z"
    }
   },
   "outputs": [],
   "source": [
    "for key in forecast.keys():\n",
    "    x = forecast[key].set_index('ds').index\n",
    "    y = forecast[key].set_index('ds')['trend']\n",
    "    plt.plot(x,y,label=key)\n",
    "plt.legend()\n",
    "plt.grid()"
   ]
  },
  {
   "cell_type": "code",
   "execution_count": null,
   "metadata": {
    "ExecuteTime": {
     "end_time": "2019-12-11T14:26:31.045745Z",
     "start_time": "2019-12-11T14:26:31.039761Z"
    }
   },
   "outputs": [],
   "source": [
    "list(forecast.keys())[0:4]"
   ]
  },
  {
   "cell_type": "code",
   "execution_count": null,
   "metadata": {
    "ExecuteTime": {
     "end_time": "2019-12-11T14:37:05.596599Z",
     "start_time": "2019-12-11T14:37:05.591617Z"
    }
   },
   "outputs": [],
   "source": [
    "forecast[key].columns"
   ]
  },
  {
   "cell_type": "code",
   "execution_count": null,
   "metadata": {},
   "outputs": [],
   "source": [
    "z = 1\n",
    "for key in list(forecast.keys())[0:4]:\n",
    "    z += 1\n",
    "    x = forecast[key].set_index('ds').index\n",
    "    y = forecast[key].set_index('ds')['yhat']\n",
    "    x1 = wls_piv[key].index\n",
    "    y1 = wls_piv[key]\n",
    "    plt.plot(x,y,label=key, zorder=z)\n",
    "    plt.scatter(x1,y1,alpha=0.3,s=5, color= 'grey', zorder=0)\n",
    "plt.legend()\n",
    "plt.grid()"
   ]
  },
  {
   "cell_type": "code",
   "execution_count": null,
   "metadata": {
    "ExecuteTime": {
     "end_time": "2019-12-11T14:31:10.741062Z",
     "start_time": "2019-12-11T14:30:57.447696Z"
    }
   },
   "outputs": [],
   "source": [
    "z = 1\n",
    "for key in list(forecast.keys())[0:4]:\n",
    "    z += 1\n",
    "    x = forecast[key].set_index('ds').index\n",
    "    y = forecast[key].set_index('ds')['yhat']\n",
    "    x1 = wls_piv[key].index\n",
    "    y1 = wls_piv[key]\n",
    "    plt.plot(x,y,label=key, zorder=z)\n",
    "    plt.scatter(x1,y1,alpha=0.3,s=5, color= 'grey', zorder=0)\n",
    "plt.legend()\n",
    "plt.grid()"
   ]
  },
  {
   "cell_type": "code",
   "execution_count": null,
   "metadata": {
    "ExecuteTime": {
     "end_time": "2019-12-10T20:50:51.615899Z",
     "start_time": "2019-12-10T20:50:49.473250Z"
    }
   },
   "outputs": [],
   "source": [
    "wls_piv['SG25A_wle'] = wls_piv[['SG25A_wle','SG25B_wle']].apply(lambda x: x[1]-0.07 if pd.isna(x[0]) else x[0],1)"
   ]
  },
  {
   "cell_type": "code",
   "execution_count": null,
   "metadata": {
    "ExecuteTime": {
     "end_time": "2019-12-10T22:35:19.208814Z",
     "start_time": "2019-12-10T22:35:19.167887Z"
    }
   },
   "outputs": [],
   "source": [
    "sg = wls_piv[['SG25A_wle','SG25B_wle','SG25C_wle','SG25D_wle']]\n",
    "sg['month'] = sg.index.month_name()"
   ]
  },
  {
   "cell_type": "code",
   "execution_count": null,
   "metadata": {
    "ExecuteTime": {
     "end_time": "2019-12-10T23:00:13.592457Z",
     "start_time": "2019-12-10T22:57:15.856294Z"
    }
   },
   "outputs": [],
   "source": [
    "m = Prophet()\n",
    "m.fit(df)"
   ]
  },
  {
   "cell_type": "code",
   "execution_count": null,
   "metadata": {
    "ExecuteTime": {
     "end_time": "2019-12-10T23:03:33.473378Z",
     "start_time": "2019-12-10T23:03:33.467395Z"
    }
   },
   "outputs": [],
   "source": [
    "future = m.make_future_dataframe(periods=365)"
   ]
  },
  {
   "cell_type": "code",
   "execution_count": null,
   "metadata": {
    "ExecuteTime": {
     "end_time": "2019-12-10T23:04:26.111465Z",
     "start_time": "2019-12-10T23:03:36.281860Z"
    }
   },
   "outputs": [],
   "source": [
    "# Python\n",
    "forecast = m.predict(future)\n",
    "forecast[['ds', 'yhat', 'yhat_lower', 'yhat_upper']].tail()"
   ]
  },
  {
   "cell_type": "code",
   "execution_count": null,
   "metadata": {
    "ExecuteTime": {
     "end_time": "2019-12-10T23:09:14.673047Z",
     "start_time": "2019-12-10T23:09:14.581294Z"
    }
   },
   "outputs": [],
   "source": [
    "forecast"
   ]
  },
  {
   "cell_type": "code",
   "execution_count": null,
   "metadata": {
    "ExecuteTime": {
     "end_time": "2019-12-10T23:04:27.687248Z",
     "start_time": "2019-12-10T23:04:27.683260Z"
    }
   },
   "outputs": [],
   "source": [
    "from fbprophet.plot import add_changepoints_to_plot"
   ]
  },
  {
   "cell_type": "code",
   "execution_count": null,
   "metadata": {
    "ExecuteTime": {
     "end_time": "2019-12-10T23:06:51.044511Z",
     "start_time": "2019-12-10T23:06:50.139932Z"
    }
   },
   "outputs": [],
   "source": [
    "fig1 = m.plot(forecast)\n",
    "a = add_changepoints_to_plot(fig1.gca(), m, forecast)"
   ]
  },
  {
   "cell_type": "code",
   "execution_count": null,
   "metadata": {},
   "outputs": [],
   "source": []
  },
  {
   "cell_type": "code",
   "execution_count": null,
   "metadata": {
    "ExecuteTime": {
     "end_time": "2019-12-10T23:08:05.551073Z",
     "start_time": "2019-12-10T23:08:03.909468Z"
    }
   },
   "outputs": [],
   "source": [
    "fig2 = m.plot_components(forecast)"
   ]
  },
  {
   "cell_type": "code",
   "execution_count": null,
   "metadata": {
    "ExecuteTime": {
     "end_time": "2019-12-10T21:19:58.128140Z",
     "start_time": "2019-12-10T21:19:43.162345Z"
    }
   },
   "outputs": [],
   "source": [
    "import seaborn as sns\n",
    "sns.set(style=\"ticks\")\n",
    "\n",
    "sns.pairplot(sg, hue=\"month\")"
   ]
  },
  {
   "cell_type": "code",
   "execution_count": null,
   "metadata": {
    "ExecuteTime": {
     "end_time": "2019-12-10T21:24:50.951094Z",
     "start_time": "2019-12-10T21:24:44.311071Z"
    }
   },
   "outputs": [],
   "source": [
    "g = sns.lmplot(x=\"SG25A_wle\", y=\"SG25B_wle\", hue=\"month\",\n",
    "               truncate=True, height=5, data=sg)"
   ]
  },
  {
   "cell_type": "code",
   "execution_count": null,
   "metadata": {},
   "outputs": [],
   "source": [
    "g."
   ]
  },
  {
   "cell_type": "code",
   "execution_count": null,
   "metadata": {
    "ExecuteTime": {
     "end_time": "2019-12-10T21:34:23.847172Z",
     "start_time": "2019-12-10T21:34:03.175964Z"
    }
   },
   "outputs": [],
   "source": [
    "g = sns.regplot(x=\"SG25A_wle\", y=\"SG25B_wle\", data=sg, marker='+', \n",
    "                lowess=True, color=\"m\",fit_reg=True)"
   ]
  },
  {
   "cell_type": "code",
   "execution_count": null,
   "metadata": {
    "ExecuteTime": {
     "end_time": "2019-12-10T21:07:52.416932Z",
     "start_time": "2019-12-10T21:07:52.023955Z"
    }
   },
   "outputs": [],
   "source": [
    "wls_piv['SG25B_wle'].resample('1D').asfreq().interpolate(method='from_derivatives').plot()"
   ]
  },
  {
   "cell_type": "code",
   "execution_count": null,
   "metadata": {},
   "outputs": [],
   "source": []
  },
  {
   "cell_type": "code",
   "execution_count": null,
   "metadata": {
    "ExecuteTime": {
     "end_time": "2019-12-10T21:45:07.919920Z",
     "start_time": "2019-12-10T21:45:06.444059Z"
    }
   },
   "outputs": [],
   "source": []
  },
  {
   "cell_type": "code",
   "execution_count": null,
   "metadata": {
    "ExecuteTime": {
     "end_time": "2019-12-10T21:56:41.194939Z",
     "start_time": "2019-12-10T21:56:34.265833Z"
    }
   },
   "outputs": [],
   "source": []
  },
  {
   "cell_type": "code",
   "execution_count": null,
   "metadata": {
    "ExecuteTime": {
     "end_time": "2019-12-09T15:57:47.563871Z",
     "start_time": "2019-12-09T15:57:47.458041Z"
    }
   },
   "outputs": [],
   "source": [
    "station = 'USC00426708'\n",
    "dfs = {}\n",
    "for station in st_df.index.get_level_values(0).unique()[3:]:\n",
    "    stname = st_mt_df.loc[station,'Station Name'].split(\" \")[0].lower()\n",
    "\n",
    "    dfs[station] = st_df.loc[station].dropna(axis=1,how='all').rename(columns={'Precipitation':f'{stname}_ppt',\n",
    "                                                            'Snow Depth':f'{stname}_snowdpt',\n",
    "                                                           'Snow Fall':f'{stname}_snowfall',\n",
    "                                                           'Min Temperature':f'{stname}_mintemp',\n",
    "                                                           'Max Temperature':f'{stname}_maxtemp',\n",
    "                                                           'Ref Evapotranspiration':f'{stname}_et'})\n",
    "    if 'Multi-Day Precipitation' in dfs[station].columns:\n",
    "        dfs[station] = dfs[station].drop(['Multi-Day Precipitation'],axis=1)"
   ]
  },
  {
   "cell_type": "code",
   "execution_count": null,
   "metadata": {
    "ExecuteTime": {
     "end_time": "2019-12-09T16:22:04.740088Z",
     "start_time": "2019-12-09T16:22:04.633222Z"
    }
   },
   "outputs": [],
   "source": [
    "weatherdata = pd.concat(dfs, axis=1)#\n",
    "weatherdata.columns = weatherdata.columns.droplevel(0)\n",
    "for col in weatherdata.columns:\n",
    "    if 'goshute' in col or 'silver' in col or 'baker' in col or 'wheeler' in col or 'ibapah' in col or 'great' in col:\n",
    "        weatherdata = weatherdata.drop(col, axis=1)"
   ]
  },
  {
   "cell_type": "code",
   "execution_count": null,
   "metadata": {
    "ExecuteTime": {
     "end_time": "2019-12-09T16:22:11.361967Z",
     "start_time": "2019-12-09T16:22:11.357986Z"
    }
   },
   "outputs": [],
   "source": [
    "weatherdata.index = pd.to_datetime(weatherdata.index)"
   ]
  },
  {
   "cell_type": "code",
   "execution_count": null,
   "metadata": {
    "ExecuteTime": {
     "end_time": "2019-12-10T14:51:36.134291Z",
     "start_time": "2019-12-10T14:51:35.886967Z"
    }
   },
   "outputs": [],
   "source": [
    "for col in weatherdata.columns:\n",
    "    if '_ppt' in col and 'silver' not in col and 'baker' not in col and 'wheeler' not in col:\n",
    "        df = weatherdata.groupby(pd.Grouper(freq='6M')).sum()\n",
    "        df = df.replace(0.0, np.nan)\n",
    "        plt.plot(df.index[1:-1],df[col][1:-1], label=col)\n",
    "plt.grid()\n",
    "plt.legend()"
   ]
  },
  {
   "cell_type": "code",
   "execution_count": null,
   "metadata": {
    "ExecuteTime": {
     "end_time": "2019-12-09T16:40:32.659553Z",
     "start_time": "2019-12-09T16:40:32.598696Z"
    }
   },
   "outputs": [],
   "source": [
    "sntl = pd.read_pickle(file_place+'snotel_data.pickle')\n",
    "for col in sntl.columns:\n",
    "    if 'Salinity' in col or 'Battery' in col or 'Air Temperature' in col:\n",
    "        sntl = sntl.drop(col,axis=1)\n",
    "\n",
    "for col in sntl.columns:\n",
    "    if 'Precipitation Accumulation' in col:\n",
    "        sntl = sntl.rename(columns={col:col.split(\" \")[0]+'_pptaccm_mm'})\n",
    "    elif 'Precipitation Increment - Snow-adj' in col:\n",
    "        sntl = sntl.rename(columns={col:col.split(\" \")[0]+'_pptincr_mm'})\n",
    "    elif 'Soil Moisture' in col:\n",
    "        sntl = sntl.rename(columns={col:col.split(\" \")[0]+col.split(\" \")[6]+'_soilmoist_pct'})\n",
    "    elif 'Soil Temperature' in col:\n",
    "        sntl = sntl.rename(columns={col:col.split(\" \")[0]+col.split(\" \")[6]+'_soiltemp_C'})\n",
    "    elif 'Snow Depth' in col:\n",
    "        sntl = sntl.rename(columns={col:col.split(\" \")[0]+'_snowdepth_cm'})\n",
    "    elif 'Snow Water' in col:\n",
    "        sntl = sntl.rename(columns={col:col.split(\" \")[0]+'_swe_mm'})\n",
    "    else:\n",
    "        sntl = sntl.drop(col,axis=1)\n",
    "sntl.index = pd.to_datetime(sntl.index)"
   ]
  },
  {
   "cell_type": "code",
   "execution_count": null,
   "metadata": {
    "ExecuteTime": {
     "end_time": "2019-12-10T14:55:31.669524Z",
     "start_time": "2019-12-10T14:55:31.651556Z"
    }
   },
   "outputs": [],
   "source": [
    "climate_data = pd.concat([weatherdata.sort_index(),sntl.sort_index()],axis=1,sort=True)"
   ]
  },
  {
   "cell_type": "code",
   "execution_count": null,
   "metadata": {
    "ExecuteTime": {
     "end_time": "2019-12-10T14:55:52.851577Z",
     "start_time": "2019-12-10T14:55:52.845592Z"
    }
   },
   "outputs": [],
   "source": [
    "climate_data.columns"
   ]
  },
  {
   "cell_type": "code",
   "execution_count": null,
   "metadata": {
    "ExecuteTime": {
     "end_time": "2019-12-10T15:57:32.942642Z",
     "start_time": "2019-12-10T15:57:32.559641Z"
    }
   },
   "outputs": [],
   "source": [
    "climate_data['partoun_maxtemp'].plot()"
   ]
  },
  {
   "cell_type": "code",
   "execution_count": null,
   "metadata": {
    "ExecuteTime": {
     "end_time": "2019-12-10T16:45:04.827287Z",
     "start_time": "2019-12-10T16:45:04.799386Z"
    }
   },
   "outputs": [],
   "source": [
    "def climate_plotter(df, keyword, frq='6M',totaler='mean'):\n",
    "    fig, ax = plt.subplots(1,1)\n",
    "    for col in df.columns:\n",
    "        if keyword in col:\n",
    "            if totaler=='mean':\n",
    "                df = df.groupby(pd.Grouper(freq=frq)).mean()\n",
    "            elif totaler=='sum':\n",
    "                df = df.groupby(pd.Grouper(freq=frq)).sum()\n",
    "            else:\n",
    "                df = df.groupby(pd.Grouper(freq=frq)).median()\n",
    "            df = df.replace(0.0, np.nan)\n",
    "            plt.plot(df.index,df[col], label=col)\n",
    "    plt.grid()\n",
    "    plt.legend()\n",
    "    return fig, ax"
   ]
  },
  {
   "cell_type": "code",
   "execution_count": null,
   "metadata": {
    "ExecuteTime": {
     "end_time": "2019-12-10T15:59:10.534754Z",
     "start_time": "2019-12-10T15:59:10.253475Z"
    }
   },
   "outputs": [],
   "source": [
    "climate_plotter(climate_data,'maxtemp','1Y')"
   ]
  },
  {
   "cell_type": "code",
   "execution_count": null,
   "metadata": {
    "ExecuteTime": {
     "end_time": "2019-12-10T15:59:56.184876Z",
     "start_time": "2019-12-10T15:59:56.165940Z"
    }
   },
   "outputs": [],
   "source": [
    "\n",
    "st_mt_df"
   ]
  },
  {
   "cell_type": "code",
   "execution_count": null,
   "metadata": {
    "ExecuteTime": {
     "end_time": "2019-12-05T20:42:11.598314Z",
     "start_time": "2019-12-05T20:42:11.590336Z"
    }
   },
   "outputs": [],
   "source": [
    "st_df.loc['USC00421144'].columns"
   ]
  },
  {
   "cell_type": "code",
   "execution_count": null,
   "metadata": {
    "ExecuteTime": {
     "end_time": "2019-12-05T20:56:56.314325Z",
     "start_time": "2019-12-05T20:56:56.070981Z"
    }
   },
   "outputs": [],
   "source": [
    "rcParams['figure.figsize'] = 15, 10\n",
    "rcParams['pdf.fonttype'] = 42\n",
    "rcParams['font.size'] = 14\n",
    "\n",
    "y_reg = st_df.loc['USC00421144','Ref Evapotranspiration'].loc['2016-01-01':]\n",
    "x_reg= st_df.loc['USC00421144','Ref Evapotranspiration'].loc['2016-01-01':].index\n",
    "y_ugs = ugs_clim_raw_dly['et_ref']#*0.3048\n",
    "x_ugs = ugs_clim_raw_dly.index\n",
    "plt.plot(x_reg,y_reg)\n",
    "plt.plot(x_ugs,y_ugs)"
   ]
  },
  {
   "cell_type": "code",
   "execution_count": null,
   "metadata": {
    "ExecuteTime": {
     "end_time": "2019-12-05T20:57:58.262758Z",
     "start_time": "2019-12-05T20:57:58.034339Z"
    }
   },
   "outputs": [],
   "source": [
    "wls = wls.set_index(['locationid','readingdate'])"
   ]
  },
  {
   "cell_type": "code",
   "execution_count": null,
   "metadata": {
    "ExecuteTime": {
     "end_time": "2019-12-05T21:28:08.710441Z",
     "start_time": "2019-12-05T21:28:08.428200Z"
    }
   },
   "outputs": [],
   "source": []
  },
  {
   "cell_type": "code",
   "execution_count": null,
   "metadata": {
    "ExecuteTime": {
     "end_time": "2019-12-05T21:27:41.174413Z",
     "start_time": "2019-12-05T21:27:41.167431Z"
    }
   },
   "outputs": [],
   "source": [
    "len(y_reg_clim.loc['2010-03-29':'2019-09-27'])"
   ]
  },
  {
   "cell_type": "code",
   "execution_count": null,
   "metadata": {
    "ExecuteTime": {
     "end_time": "2019-12-12T19:30:36.071221Z",
     "start_time": "2019-12-12T19:30:35.940565Z"
    }
   },
   "outputs": [],
   "source": [
    "x_1011 = wls.loc[1011,'waterelevation'].groupby(pd.Grouper(freq='1M')).mean().index\n",
    "y_1011 = wls.loc[1011,'waterelevation'].groupby(pd.Grouper(freq='1M')).mean()\n",
    "x_callpptmo = st_df.loc['USC00421144','Precipitation'].groupby(pd.Grouper(freq='1M')).mean().index\n",
    "y_callpptmo = st_df.loc['USC00421144','Precipitation'].groupby(pd.Grouper(freq='1M')).mean()\n",
    "plt.plot(x_1011,y_1011,color='blue')\n",
    "plt.grid()\n",
    "plt.twinx()\n",
    "plt.plot(x_callpptmo,y_callpptmo,color='red')\n",
    "plt.xlim('2008-01-01','2020-01-01')\n"
   ]
  },
  {
   "cell_type": "code",
   "execution_count": null,
   "metadata": {
    "ExecuteTime": {
     "end_time": "2019-12-09T14:31:33.260125Z",
     "start_time": "2019-12-09T14:31:33.188258Z"
    }
   },
   "outputs": [],
   "source": [
    "st_df"
   ]
  },
  {
   "cell_type": "code",
   "execution_count": null,
   "metadata": {
    "ExecuteTime": {
     "end_time": "2019-12-05T23:31:45.631613Z",
     "start_time": "2019-12-05T23:31:45.168852Z"
    }
   },
   "outputs": [],
   "source": [
    "x_1011 = wls.loc[1011,'waterelevation'].index\n",
    "y_1011 = wls.loc[1011,'waterelevation']\n",
    "plt.plot(x_1011,y_1011,zorder=1,color='blue')\n",
    "plt.grid()\n",
    "plt.twinx()\n",
    "x_reg_clim = st_df.loc['USC00421144','Ref Evapotranspiration'].loc['2010-01-01':].index\n",
    "y_reg_clim = st_df.loc['USC00421144','Ref Evapotranspiration'].loc['2010-01-01':]\n",
    "plt.plot(x_reg_clim,y_reg_clim,color='orange',zorder=10)\n"
   ]
  },
  {
   "cell_type": "code",
   "execution_count": null,
   "metadata": {},
   "outputs": [],
   "source": [
    "plt.scatter(y_reg_clim.loc['2010-03-29':'2019-09-27'],y_1011.resample('1D').median().loc['2010-03-29':'2019-09-27'])"
   ]
  },
  {
   "cell_type": "code",
   "execution_count": null,
   "metadata": {
    "ExecuteTime": {
     "end_time": "2019-12-05T23:40:15.756290Z",
     "start_time": "2019-12-05T23:40:10.967117Z"
    }
   },
   "outputs": [],
   "source": [
    "from scipy import signal\n"
   ]
  },
  {
   "cell_type": "code",
   "execution_count": null,
   "metadata": {
    "ExecuteTime": {
     "end_time": "2019-12-05T23:43:57.778627Z",
     "start_time": "2019-12-05T23:43:57.762671Z"
    }
   },
   "outputs": [],
   "source": [
    "et1011 =pd.concat([y_reg_clim.loc['2010-03-29':'2019-09-27'],y_1011.resample('1D').mean().loc['2010-03-29':'2019-09-27']],axis=1)\n",
    "et1011 = et1011.rename(columns={'Ref Evapotranspiration':'et','waterelevation':'wl'}).dropna()\n",
    "corr = signal.correlate(et1011['wl'].values,et1011['et'].values,'same')/len(et1011)"
   ]
  },
  {
   "cell_type": "code",
   "execution_count": null,
   "metadata": {},
   "outputs": [],
   "source": [
    "pd.plotting.autocorrelation_plot(et1011['wl'])"
   ]
  },
  {
   "cell_type": "code",
   "execution_count": null,
   "metadata": {
    "ExecuteTime": {
     "end_time": "2019-12-05T23:45:47.548641Z",
     "start_time": "2019-12-05T23:45:47.524718Z"
    }
   },
   "outputs": [],
   "source": [
    "for i in range(-10,20):\n",
    "    et1011[f'wl_{i}'] = et1011['wl'].shift(i)\n",
    "    df = et1011.dropna()\n",
    "    print(df['et'].corr(df[f'wl_{i}']))\n",
    "    plt.scatter(et1011['et'],et1011[f'wl_{i}'])"
   ]
  },
  {
   "cell_type": "code",
   "execution_count": null,
   "metadata": {
    "ExecuteTime": {
     "end_time": "2019-12-05T23:44:00.223080Z",
     "start_time": "2019-12-05T23:43:59.338450Z"
    }
   },
   "outputs": [],
   "source": [
    "import matplotlib.pyplot as plt\n",
    "#clock = np.arange(64, len(1011), 128)\n",
    "fig, (ax_orig, ax_noise, ax_corr) = plt.subplots(3, 1, sharex=True)\n",
    "ax_orig.plot(et1011['wl'])\n",
    "#ax_orig.plot(clock, sig[clock], 'ro')\n",
    "ax_orig.set_title('Original signal')\n",
    "ax_noise.plot(et1011['et'])\n",
    "ax_noise.set_title('Signal with noise')\n",
    "ax_corr.plot(corr)\n",
    "#ax_corr.plot(clock, corr[clock], 'ro')\n",
    "ax_corr.axhline(0.5, ls=':')\n",
    "ax_corr.set_title('Cross-correlated')\n",
    "ax_orig.margins(0, 0.1)\n",
    "fig.tight_layout()\n",
    "\n"
   ]
  },
  {
   "cell_type": "code",
   "execution_count": null,
   "metadata": {
    "ExecuteTime": {
     "end_time": "2019-12-05T23:31:32.122799Z",
     "start_time": "2019-12-05T23:31:30.122159Z"
    }
   },
   "outputs": [],
   "source": [
    "x = y_reg_clim.loc['2010-03-29':'2019-09-27']\n",
    "y = y_1011.resample('1D').median()#.loc['2010-03-29':'2019-09-27',]\n",
    "\n",
    "for i in range(-350,350):\n",
    "    plt.scatter(i,crosscorr(x,y,i))"
   ]
  },
  {
   "cell_type": "code",
   "execution_count": null,
   "metadata": {},
   "outputs": [],
   "source": []
  }
 ],
 "metadata": {
  "gist": {
   "data": {
    "description": "GitHub/Leland Harris Analysis/Prophet Model.ipynb",
    "public": false
   },
   "id": ""
  },
  "kernelspec": {
   "display_name": "Python 3",
   "language": "python",
   "name": "python3"
  },
  "language_info": {
   "codemirror_mode": {
    "name": "ipython",
    "version": 3
   },
   "file_extension": ".py",
   "mimetype": "text/x-python",
   "name": "python",
   "nbconvert_exporter": "python",
   "pygments_lexer": "ipython3",
   "version": "3.7.1"
  },
  "toc": {
   "base_numbering": 1,
   "nav_menu": {},
   "number_sections": true,
   "sideBar": true,
   "skip_h1_title": false,
   "title_cell": "Table of Contents",
   "title_sidebar": "Contents",
   "toc_cell": false,
   "toc_position": {
    "height": "calc(100% - 180px)",
    "left": "10px",
    "top": "150px",
    "width": "414.95px"
   },
   "toc_section_display": true,
   "toc_window_display": true
  },
  "varInspector": {
   "cols": {
    "lenName": 16,
    "lenType": 16,
    "lenVar": 40
   },
   "kernels_config": {
    "python": {
     "delete_cmd_postfix": "",
     "delete_cmd_prefix": "del ",
     "library": "var_list.py",
     "varRefreshCmd": "print(var_dic_list())"
    },
    "r": {
     "delete_cmd_postfix": ") ",
     "delete_cmd_prefix": "rm(",
     "library": "var_list.r",
     "varRefreshCmd": "cat(var_dic_list()) "
    }
   },
   "types_to_exclude": [
    "module",
    "function",
    "builtin_function_or_method",
    "instance",
    "_Feature"
   ],
   "window_display": false
  }
 },
 "nbformat": 4,
 "nbformat_minor": 2
}
